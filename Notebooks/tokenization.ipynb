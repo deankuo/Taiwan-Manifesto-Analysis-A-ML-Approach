{
 "cells": [
  {
   "cell_type": "markdown",
   "metadata": {},
   "source": [
    "# Set Up The Environment"
   ]
  },
  {
   "cell_type": "code",
   "execution_count": 1,
   "metadata": {},
   "outputs": [
    {
     "name": "stderr",
     "output_type": "stream",
     "text": [
      "2024-03-11 20:27:52.995108: I tensorflow/core/platform/cpu_feature_guard.cc:193] This TensorFlow binary is optimized with oneAPI Deep Neural Network Library (oneDNN) to use the following CPU instructions in performance-critical operations:  AVX2 FMA\n",
      "To enable them in other operations, rebuild TensorFlow with the appropriate compiler flags.\n",
      "/Users/deankuo/opt/anaconda3/lib/python3.8/site-packages/ckiptagger/model_ws.py:106: UserWarning: `tf.nn.rnn_cell.LSTMCell` is deprecated and will be removed in a future version. This class is equivalent as `tf.keras.layers.LSTMCell`, and will be replaced by that in Tensorflow 2.0.\n",
      "  cell = tf.compat.v1.nn.rnn_cell.LSTMCell(hidden_d, name=name)\n",
      "2024-03-11 20:28:08.325787: I tensorflow/core/platform/cpu_feature_guard.cc:193] This TensorFlow binary is optimized with oneAPI Deep Neural Network Library (oneDNN) to use the following CPU instructions in performance-critical operations:  AVX2 FMA\n",
      "To enable them in other operations, rebuild TensorFlow with the appropriate compiler flags.\n",
      "2024-03-11 20:28:08.377698: I tensorflow/compiler/mlir/mlir_graph_optimization_pass.cc:357] MLIR V1 optimization pass is not enabled\n",
      "/Users/deankuo/opt/anaconda3/lib/python3.8/site-packages/ckiptagger/model_pos.py:56: UserWarning: `tf.nn.rnn_cell.LSTMCell` is deprecated and will be removed in a future version. This class is equivalent as `tf.keras.layers.LSTMCell`, and will be replaced by that in Tensorflow 2.0.\n",
      "  cell = tf.compat.v1.nn.rnn_cell.LSTMCell(hidden_d, name=name)\n",
      "/Users/deankuo/opt/anaconda3/lib/python3.8/site-packages/ckiptagger/model_ner.py:57: UserWarning: `tf.nn.rnn_cell.LSTMCell` is deprecated and will be removed in a future version. This class is equivalent as `tf.keras.layers.LSTMCell`, and will be replaced by that in Tensorflow 2.0.\n",
      "  cell = tf.compat.v1.nn.rnn_cell.LSTMCell(hidden_d, name=name)\n"
     ]
    }
   ],
   "source": [
    "# Import packages\n",
    "import pandas as pd\n",
    "import numpy as np\n",
    "import matplotlib.pyplot as plt\n",
    "import matplotlib\n",
    "import re\n",
    "import os\n",
    "import time\n",
    "from tqdm.auto import tqdm\n",
    "from ckiptagger import WS, POS, NER, construct_dictionary # tokenization\n",
    "\n",
    "# Setup work directory\n",
    "os.chdir('/Users/deankuo/Desktop/python/dissertation/Taiwan-Manifesto-Analysis-A-ML-Approach')\n",
    "os.listdir()\n",
    "\n",
    "# Import utils.py\n",
    "from Utils.utils_token import (\n",
    "    flatten,\n",
    "    text_select,\n",
    "    load_text,\n",
    "    split_content,\n",
    "    tokenization,\n",
    "    postprocess_dataframe,\n",
    "    \n",
    ")\n",
    "matplotlib.rcParams['font.family'] = 'Times New Roman'\n",
    "\n",
    "# CKIP module\n",
    "CKIP_PATH = \"../CKIP_TAGGER\"\n",
    "ws = WS(CKIP_PATH) # 斷詞\n",
    "pos = POS(CKIP_PATH) # 詞性標註\n",
    "ner = NER(CKIP_PATH) # 命名實體識別"
   ]
  },
  {
   "cell_type": "code",
   "execution_count": 2,
   "metadata": {},
   "outputs": [],
   "source": [
    "# 加入自定義字典\n",
    "word_to_weight = {'823': 1, 'ECFA': 1, '2300': 1, '台26線': 1, '台74線': 1, '12年國教': 1, 'BOT': 1, '88快速道路': 1, '台27線': 1, '台61線': 1, '十二年國教': 1, '國道10號': 1,\n",
    "                  '台88號': 1, 'M型': 1, '205兵工廠': 1, '北二高': 1, '台65線': 1, 'CEPA': 1, 'FTA': 1, '科學園區': 1, '228': 1, 'MIT': 1, '202兵工廠': 1, '86快速道路': 1, '國道8號': 1,\n",
    "                  '台64': 1, '台66': 1, 'iBike': 1, 'MRT': 1, 'TPP': 1, 'TIFA': 1, 'TPP':1, '台22': 1, '台29': 1, '國10': 1, '國1': 1, '318': 1, 'NCC':1, 'PM2.5': 1, 'YouBike': 1, \n",
    "                  '台68': 1, '快速道路': 1, 'NGO': 1, 'NPO': 1, 'U-Bike': 1, 'LGBTQ': 1, '三七五減租': 1, '小三通': 1, '大三通': 1, '基礎建設': 1, '戒急用忍': 1, '社會役': 1, '非核家園': 1,\n",
    "                  '教育券': 1, '九二共識': 1}\n",
    "dictionary = construct_dictionary(word_to_weight)\n",
    "\n",
    "# 停用詞\n",
    "with open(\"./Data/stopwords_zh-tw.txt\", encoding=\"utf-8\") as fin:\n",
    "    stopwords = fin.read().split(\"\\n\")[1:]"
   ]
  },
  {
   "cell_type": "code",
   "execution_count": 2,
   "metadata": {},
   "outputs": [
    {
     "name": "stdout",
     "output_type": "stream",
     "text": [
      "(330, 16)\n",
      "(314, 16)\n",
      "(383, 16)\n",
      "(434, 16)\n",
      "(368, 16)\n",
      "(283, 16)\n",
      "(267, 16)\n",
      "(354, 16)\n",
      "(410, 16)\n",
      "(309, 16)\n"
     ]
    }
   ],
   "source": [
    "years = [1992, 1995, 1998, 2001, 2004, 2008, 2012, 2016, 2020, 2024]\n",
    "dfs = {}\n",
    "for year in years:\n",
    "    dfs[year] = pd.read_excel(f\"./Data/merge_data/{year}.xlsx\")\n",
    "    print(dfs[year].shape)"
   ]
  },
  {
   "cell_type": "code",
   "execution_count": 12,
   "metadata": {},
   "outputs": [],
   "source": [
    "for k, v in dfs.items():\n",
    "    dfs[k] = split_content(dfs[k])"
   ]
  },
  {
   "cell_type": "markdown",
   "metadata": {},
   "source": [
    "# Tokenization"
   ]
  },
  {
   "cell_type": "code",
   "execution_count": 13,
   "metadata": {},
   "outputs": [
    {
     "name": "stdout",
     "output_type": "stream",
     "text": [
      "\n",
      "=====\n",
      "原文：\n",
      "２.加強實現中山區幸福工程建造計劃，定期舉辦１８場講座，讓每個人身懷絕技，擁有１８般武藝。\n",
      "斷詞後：\n",
      "加強 實現 中山區 幸福 工程 建造 計劃 定期 舉辦 １８ 講座 絕技 擁有 １８般武藝\n",
      "斷詞後+詞性標注：\n",
      "['加強(VC)', '實現(VC)', '中山區(Nc)', '幸福(VH)', '工程(Na)', '建造(Nv)', '計劃(Na)', '定期(D)', '舉辦(VC)', '講座(Na)', '絕技(Na)', '擁有(VJ)', '１８般武藝(Na)']\n",
      "透過詞性篩選的斷詞: \n",
      "加強 實現 中山區 幸福 工程 建造 計劃 定期 舉辦 講座 絕技 擁有 １８般武藝\n",
      "命名實體辨識: \n",
      "[{(0, 1, 'CARDINAL', '２'), (22, 24, 'CARDINAL', '１８'), (6, 9, 'LOC', '中山區')}]\n",
      "=====\n"
     ]
    }
   ],
   "source": [
    "# Test the text selection function\n",
    "text = dfs[2024].loc[100, 'CONTENT']\n",
    "\n",
    "sentence_, pos_, ner_, token_ = load_text(text, test=1)\n",
    "print()\n",
    "print('=====')\n",
    "print(\"原文：\")\n",
    "print(text)\n",
    "print(\"斷詞後：\")\n",
    "print(sentence_)\n",
    "print(\"斷詞後+詞性標注：\")\n",
    "print(pos_)\n",
    "print(\"透過詞性篩選的斷詞: \")\n",
    "print(token_)\n",
    "print(\"命名實體辨識: \")\n",
    "print(ner_)\n",
    "print('=====')"
   ]
  },
  {
   "cell_type": "markdown",
   "metadata": {},
   "source": [
    "## Iterate Each Year Data"
   ]
  },
  {
   "cell_type": "code",
   "execution_count": 14,
   "metadata": {},
   "outputs": [
    {
     "data": {
      "application/vnd.jupyter.widget-view+json": {
       "model_id": "fb441904c9bc4862b96a132c966a2c5d",
       "version_major": 2,
       "version_minor": 0
      },
      "text/plain": [
       "Tokenizing 1992 election statements:   0%|          | 0/4070 [00:00<?, ?it/s]"
      ]
     },
     "metadata": {},
     "output_type": "display_data"
    },
    {
     "name": "stdout",
     "output_type": "stream",
     "text": [
      "1992年選舉公報的斷詞運算時間為: 8.29 分\n"
     ]
    },
    {
     "data": {
      "application/vnd.jupyter.widget-view+json": {
       "model_id": "bd735100d3e74652acef5d94c2f0641e",
       "version_major": 2,
       "version_minor": 0
      },
      "text/plain": [
       "Tokenizing 1995 election statements:   0%|          | 0/3633 [00:00<?, ?it/s]"
      ]
     },
     "metadata": {},
     "output_type": "display_data"
    },
    {
     "name": "stdout",
     "output_type": "stream",
     "text": [
      "1995年選舉公報的斷詞運算時間為: 7.49 分\n"
     ]
    },
    {
     "data": {
      "application/vnd.jupyter.widget-view+json": {
       "model_id": "b954edf0216d465eb5e792bebe564543",
       "version_major": 2,
       "version_minor": 0
      },
      "text/plain": [
       "Tokenizing 1998 election statements:   0%|          | 0/4357 [00:00<?, ?it/s]"
      ]
     },
     "metadata": {},
     "output_type": "display_data"
    },
    {
     "name": "stdout",
     "output_type": "stream",
     "text": [
      "1998年選舉公報的斷詞運算時間為: 9.97 分\n"
     ]
    },
    {
     "data": {
      "application/vnd.jupyter.widget-view+json": {
       "model_id": "d1b255999d67494c91ce6ebbf2d505da",
       "version_major": 2,
       "version_minor": 0
      },
      "text/plain": [
       "Tokenizing 2001 election statements:   0%|          | 0/4593 [00:00<?, ?it/s]"
      ]
     },
     "metadata": {},
     "output_type": "display_data"
    },
    {
     "name": "stdout",
     "output_type": "stream",
     "text": [
      "2001年選舉公報的斷詞運算時間為: 9.92 分\n"
     ]
    },
    {
     "data": {
      "application/vnd.jupyter.widget-view+json": {
       "model_id": "b0687eb704bc4a83a7eccde99599acde",
       "version_major": 2,
       "version_minor": 0
      },
      "text/plain": [
       "Tokenizing 2004 election statements:   0%|          | 0/3926 [00:00<?, ?it/s]"
      ]
     },
     "metadata": {},
     "output_type": "display_data"
    },
    {
     "name": "stdout",
     "output_type": "stream",
     "text": [
      "2004年選舉公報的斷詞運算時間為: 8.16 分\n"
     ]
    },
    {
     "data": {
      "application/vnd.jupyter.widget-view+json": {
       "model_id": "8288a1f2215b4a9c94394a123fb1b6dd",
       "version_major": 2,
       "version_minor": 0
      },
      "text/plain": [
       "Tokenizing 2008 election statements:   0%|          | 0/3724 [00:00<?, ?it/s]"
      ]
     },
     "metadata": {},
     "output_type": "display_data"
    },
    {
     "name": "stdout",
     "output_type": "stream",
     "text": [
      "2008年選舉公報的斷詞運算時間為: 7.55 分\n"
     ]
    },
    {
     "data": {
      "application/vnd.jupyter.widget-view+json": {
       "model_id": "8112a9b461e24c8699fd8ba848859cd4",
       "version_major": 2,
       "version_minor": 0
      },
      "text/plain": [
       "Tokenizing 2012 election statements:   0%|          | 0/2877 [00:00<?, ?it/s]"
      ]
     },
     "metadata": {},
     "output_type": "display_data"
    },
    {
     "name": "stdout",
     "output_type": "stream",
     "text": [
      "2012年選舉公報的斷詞運算時間為: 7.45 分\n"
     ]
    },
    {
     "data": {
      "application/vnd.jupyter.widget-view+json": {
       "model_id": "143cee9b757248bbbe62fa2f6670b2a6",
       "version_major": 2,
       "version_minor": 0
      },
      "text/plain": [
       "Tokenizing 2016 election statements:   0%|          | 0/3988 [00:00<?, ?it/s]"
      ]
     },
     "metadata": {},
     "output_type": "display_data"
    },
    {
     "name": "stdout",
     "output_type": "stream",
     "text": [
      "2016年選舉公報的斷詞運算時間為: 9.72 分\n"
     ]
    },
    {
     "data": {
      "application/vnd.jupyter.widget-view+json": {
       "model_id": "06a64f0e047047449057e3aac200ca9e",
       "version_major": 2,
       "version_minor": 0
      },
      "text/plain": [
       "Tokenizing 2020 election statements:   0%|          | 0/5531 [00:00<?, ?it/s]"
      ]
     },
     "metadata": {},
     "output_type": "display_data"
    },
    {
     "name": "stdout",
     "output_type": "stream",
     "text": [
      "2020年選舉公報的斷詞運算時間為: 11.04 分\n"
     ]
    },
    {
     "data": {
      "application/vnd.jupyter.widget-view+json": {
       "model_id": "8933d42a4cf648beb3294f2716001a76",
       "version_major": 2,
       "version_minor": 0
      },
      "text/plain": [
       "Tokenizing 2024 election statements:   0%|          | 0/3876 [00:00<?, ?it/s]"
      ]
     },
     "metadata": {},
     "output_type": "display_data"
    },
    {
     "name": "stdout",
     "output_type": "stream",
     "text": [
      "2024年選舉公報的斷詞運算時間為: 9.02 分\n"
     ]
    }
   ],
   "source": [
    "for key, value in dfs.items():\n",
    "    dfs[key] = tokenization(key, value)"
   ]
  },
  {
   "cell_type": "markdown",
   "metadata": {},
   "source": [
    "## Post Processing"
   ]
  },
  {
   "cell_type": "code",
   "execution_count": 3,
   "metadata": {},
   "outputs": [],
   "source": [
    "years = [1992, 1995, 1998, 2001, 2004, 2008, 2012, 2016, 2020, 2024]\n",
    "dfs = {}\n",
    "for year in years:\n",
    "    dfs[year] = pd.read_csv(f\"./Data/Dataset/{year}.csv\")"
   ]
  },
  {
   "cell_type": "code",
   "execution_count": 4,
   "metadata": {},
   "outputs": [],
   "source": [
    "for k, v in dfs.items():\n",
    "    dfs[k] = postprocess_dataframe(dfs[k])"
   ]
  },
  {
   "cell_type": "code",
   "execution_count": 5,
   "metadata": {},
   "outputs": [
    {
     "name": "stdout",
     "output_type": "stream",
     "text": [
      "40557\n"
     ]
    }
   ],
   "source": [
    "sum = 0\n",
    "for k, v in dfs.items():\n",
    "    sum += dfs[k].shape[0]\n",
    "\n",
    "print(sum)"
   ]
  },
  {
   "cell_type": "code",
   "execution_count": 7,
   "metadata": {},
   "outputs": [],
   "source": [
    "for k, v in dfs.items():\n",
    "    dfs[k].to_csv(f'./Data/Dataset/{k}.csv', encoding='utf-8-sig', index=False)"
   ]
  },
  {
   "cell_type": "code",
   "execution_count": 8,
   "metadata": {},
   "outputs": [],
   "source": [
    "combined_df = pd.concat(dfs.values(), ignore_index=True)\n",
    "combined_df.to_csv('./Data/Manifesto_Dataset.csv', encoding='utf-8-sig', index=False)"
   ]
  }
 ],
 "metadata": {
  "kernelspec": {
   "display_name": "base",
   "language": "python",
   "name": "python3"
  },
  "language_info": {
   "codemirror_mode": {
    "name": "ipython",
    "version": 3
   },
   "file_extension": ".py",
   "mimetype": "text/x-python",
   "name": "python",
   "nbconvert_exporter": "python",
   "pygments_lexer": "ipython3",
   "version": "3.8.8"
  }
 },
 "nbformat": 4,
 "nbformat_minor": 2
}
