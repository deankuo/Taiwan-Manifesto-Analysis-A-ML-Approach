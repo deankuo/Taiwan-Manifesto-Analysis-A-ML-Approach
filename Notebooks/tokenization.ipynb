{
 "cells": [
  {
   "cell_type": "markdown",
   "metadata": {},
   "source": [
    "# Set Up The Environment"
   ]
  },
  {
   "cell_type": "code",
   "execution_count": 1,
   "metadata": {},
   "outputs": [
    {
     "name": "stderr",
     "output_type": "stream",
     "text": [
      "2024-02-18 15:40:22.826353: I tensorflow/core/platform/cpu_feature_guard.cc:193] This TensorFlow binary is optimized with oneAPI Deep Neural Network Library (oneDNN) to use the following CPU instructions in performance-critical operations:  AVX2 FMA\n",
      "To enable them in other operations, rebuild TensorFlow with the appropriate compiler flags.\n",
      "/Users/deankuo/opt/anaconda3/lib/python3.8/site-packages/ckiptagger/model_ws.py:106: UserWarning: `tf.nn.rnn_cell.LSTMCell` is deprecated and will be removed in a future version. This class is equivalent as `tf.keras.layers.LSTMCell`, and will be replaced by that in Tensorflow 2.0.\n",
      "  cell = tf.compat.v1.nn.rnn_cell.LSTMCell(hidden_d, name=name)\n",
      "2024-02-18 15:40:35.869551: I tensorflow/core/platform/cpu_feature_guard.cc:193] This TensorFlow binary is optimized with oneAPI Deep Neural Network Library (oneDNN) to use the following CPU instructions in performance-critical operations:  AVX2 FMA\n",
      "To enable them in other operations, rebuild TensorFlow with the appropriate compiler flags.\n",
      "2024-02-18 15:40:35.914085: I tensorflow/compiler/mlir/mlir_graph_optimization_pass.cc:357] MLIR V1 optimization pass is not enabled\n",
      "/Users/deankuo/opt/anaconda3/lib/python3.8/site-packages/ckiptagger/model_pos.py:56: UserWarning: `tf.nn.rnn_cell.LSTMCell` is deprecated and will be removed in a future version. This class is equivalent as `tf.keras.layers.LSTMCell`, and will be replaced by that in Tensorflow 2.0.\n",
      "  cell = tf.compat.v1.nn.rnn_cell.LSTMCell(hidden_d, name=name)\n",
      "/Users/deankuo/opt/anaconda3/lib/python3.8/site-packages/ckiptagger/model_ner.py:57: UserWarning: `tf.nn.rnn_cell.LSTMCell` is deprecated and will be removed in a future version. This class is equivalent as `tf.keras.layers.LSTMCell`, and will be replaced by that in Tensorflow 2.0.\n",
      "  cell = tf.compat.v1.nn.rnn_cell.LSTMCell(hidden_d, name=name)\n"
     ]
    }
   ],
   "source": [
    "# Import packages\n",
    "import pandas as pd\n",
    "import numpy as np\n",
    "import matplotlib.pyplot as plt\n",
    "import matplotlib\n",
    "import re\n",
    "import os\n",
    "import time\n",
    "from ckiptagger import WS, POS, NER, construct_dictionary # tokenization\n",
    "\n",
    "# Setup work directory\n",
    "os.chdir('/Users/deankuo/Desktop/python/dissertation/Taiwan-Manifesto-Analysis-A-ML-Approach')\n",
    "os.listdir()\n",
    "\n",
    "# Import utils.py\n",
    "from Utils.utils_token import (\n",
    "    flatten,\n",
    "    text_select,\n",
    "    load_text,\n",
    "    split_content,\n",
    "    \n",
    ")\n",
    "matplotlib.rcParams['font.family'] = 'Times New Roman'\n",
    "\n",
    "# CKIP module\n",
    "CKIP_PATH = \"../CKIP_TAGGER\"\n",
    "ws = WS(CKIP_PATH) # 斷詞\n",
    "pos = POS(CKIP_PATH) # 詞性標註\n",
    "ner = NER(CKIP_PATH) # 命名實體識別"
   ]
  },
  {
   "cell_type": "code",
   "execution_count": 2,
   "metadata": {},
   "outputs": [],
   "source": [
    "# 加入自定義字典\n",
    "word_to_weight = {'823': 1, 'ECFA': 1, '2300': 1, '台26線': 1, '台74線': 1, '12年國教': 1, 'BOT': 1, '88快速道路': 1, '台27線': 1, '台61線': 1, '十二年國教': 1, '國道10號': 1,\n",
    "                  '台88號': 1, 'M型': 1, '205兵工廠': 1, '北二高': 1, '台65線': 1, 'CEPA': 1, 'FTA': 1, '科學園區': 1, '228': 1, 'MIT': 1, '202兵工廠': 1, '86快速道路': 1, '國道8號': 1,\n",
    "                  '台64': 1, '台66': 1, 'iBike': 1, 'MRT': 1, 'TPP': 1, 'TIFA': 1, 'TPP':1, '台22': 1, '台29': 1, '國10': 1, '國1': 1, '318': 1, 'NCC':1, 'PM2.5': 1, 'YouBike': 1, \n",
    "                  '台68': 1, '快速道路': 1, 'NGO': 1, 'NPO': 1, 'U-Bike': 1, 'LGBTQ': 1, '三七五減租': 1, '小三通': 1, '大三通': 1, '基礎建設': 1, '戒急用忍': 1, '社會役': 1, '非核家園': 1,\n",
    "                  '教育券': 1, '九二共識': 1}\n",
    "dictionary = construct_dictionary(word_to_weight)\n",
    "\n",
    "# 停用詞\n",
    "with open(\"./Data/stopwords_zh-tw.txt\", encoding=\"utf-8\") as fin:\n",
    "    stopwords = fin.read().split(\"\\n\")[1:]"
   ]
  },
  {
   "cell_type": "code",
   "execution_count": 42,
   "metadata": {},
   "outputs": [],
   "source": [
    "years = [1992, 1995, 1998, 2001, 2004, 2008, 2012, 2016, 2020, 2024]\n",
    "dfs = {}\n",
    "for year in years:\n",
    "    dfs[year] = pd.read_excel(f\"./Data/Dataset/{year}.xlsx\")"
   ]
  },
  {
   "cell_type": "code",
   "execution_count": null,
   "metadata": {},
   "outputs": [],
   "source": [
    "for k, v in dfs.items():\n",
    "    dfs[k] = split_content(dfs[k])"
   ]
  },
  {
   "cell_type": "code",
   "execution_count": 46,
   "metadata": {},
   "outputs": [
    {
     "name": "stdout",
     "output_type": "stream",
     "text": [
      "40575\n"
     ]
    }
   ],
   "source": [
    "sum = 0\n",
    "for k, v in dfs.items():\n",
    "    sum += dfs[k].shape[0]\n",
    "\n",
    "print(sum)"
   ]
  },
  {
   "cell_type": "markdown",
   "metadata": {},
   "source": [
    "# Tokenization"
   ]
  },
  {
   "cell_type": "code",
   "execution_count": 22,
   "metadata": {},
   "outputs": [
    {
     "name": "stdout",
     "output_type": "stream",
     "text": [
      "\n",
      "=====\n",
      "原文：\n",
      "海口新選擇、改變有新希望：\n",
      "●強力監督政府，拒當「黨意」立委。\n",
      "●反對巧立名目編列「特別預算」，拒絕債留子孫。\n",
      "●揭示《ＣＯＶＩＤ１９疫苗採購公文》、進口蛋採購合約。\n",
      "教育平等、撐住每個孩子：\n",
      "●國中小及中等教育教育預算提高至ＧＤＰ２.５％以上（＃２０１９年臺灣２％、日本２.６％、韓國３.４％、ＯＥＣＤ各國３.４％。）。\n",
      "●偏鄉、非山非市學校建立智慧校園，實現平等教育。\n",
      "●成立三級《網路成癮對策中心》。\n",
      "顧老護幼、實現世代正義：\n",
      "\n",
      "●推動智慧遠距醫療、智慧遠距照顧，弭平城鄉差距。\n",
      "●青年創業、育成輔導獎勵。\n",
      "●全面檢討修訂貨物稅、所得稅、房屋稅。\n",
      "●６５歲（含）以上長輩健保費由中央補助。\n",
      "●一鄉鎮一大型共融式全齡公園。\n",
      "產業創新、地方創生：\n",
      "\n",
      "●全面修繕縣內漁港，轉型漁業觀光港口，漁業升級智慧產業。\n",
      "●依物價波動調升公糧收購價格，調整天然災害救助金額。\n",
      "●打造生態、文化觀光軸帶，地方創生、農村再生、產業創新拚經濟。\n",
      "斷詞後：\n",
      "海口 選擇 改變 希望 強力 監督 政府 拒當 黨意 立委 反對 巧立 名目 編列 特別 預算 拒絕 子孫。\n",
      " 揭示 ＣＯＶＩＤ １９ 疫苗 採購 公文 進口 採購 合約 教育 平等 撐住 孩子 國中小 中等 教育 教育 預算 提高 ＧＤＰ ２.５％ 以上 ２０１９年 臺灣 ２％ 日本 ２.６％ 韓國 ３.４％ ＯＥＣＤ ３.４％ 。\n",
      " 偏鄉 非山非市 學校 建立 智慧 校園 實現 平等 教育 成立 網路 成癮 對策 中心 護幼 實現 世代 正義 \n",
      "\n",
      " 推動 智慧 遠距 醫療 智慧 遠距 照顧 弭平 城鄉 差距 。\n",
      " 青年 創業 育成 輔導 獎勵 。\n",
      " 全面 檢討 修訂 貨物稅 所得稅 房屋稅 。\n",
      " ６５ 以上 長輩 健保費 中央 補助 。\n",
      " 鄉鎮 大型 共融式 全齡 公園 。\n",
      " 產業 創新 地方 創生 \n",
      "\n",
      " 全面 修繕 漁港 轉型 漁業 觀光 港口 漁業 升級 智慧 產業 物價 波動 調升 公糧 收購 價格 調整 天然 災害 救助 金額 打造 生態 文化 觀光 軸帶 地方 創生 農村 再生 產業 創新 經濟\n",
      "斷詞後+詞性標注：\n",
      "['海口(Nc)', '選擇(VC)', '改變(VC)', '希望(Na)', '強力(D)', '監督(VC)', '政府(Na)', '拒當(VG)', '黨意(Na)', '立委(Na)', '反對(VE)', '巧立(VC)', '名目(Na)', '編列(VC)', '特別(VH)', '預算(Na)', '拒絕(VF)', '子孫。\\n(Nb)', '揭示(VE)', '疫苗(Na)', '採購(VC)', '公文(Na)', '進口(VC)', '採購(VC)', '合約(Na)', '教育(Na)', '平等(VH)', '撐住(VC)', '孩子(Na)', '國中小(Nc)', '中等(A)', '教育(Na)', '教育(Na)', '預算(Na)', '提高(VC)', '以上(Ng)', '２０１９年(Nd)', '臺灣(Nc)', '日本(Nc)', '韓國(Nc)', '。\\n(Nb)', '偏鄉(Nc)', '非山非市(Nc)', '學校(Nc)', '建立(VC)', '智慧(Na)', '校園(Nc)', '實現(VC)', '平等(VH)', '教育(Na)', '成立(VC)', '網路(Na)', '成癮(VH)', '對策(Na)', '中心(Nc)', '護幼(VA)', '實現(VC)', '世代(Na)', '正義(Na)', '推動(VC)', '智慧(Na)', '遠距(A)', '醫療(Nv)', '智慧(Na)', '遠距(A)', '照顧(VC)', '弭平(VC)', '城鄉(Na)', '差距(Na)', '。\\n(Na)', '青年(Na)', '創業(VA)', '育成(VC)', '輔導(VC)', '獎勵(Na)', '全面(D)', '檢討(VE)', '修訂(VC)', '貨物稅(Na)', '所得稅(Na)', '房屋稅(Na)', '。\\n(Na)', '以上(Ncd)', '長輩(Na)', '健保費(Na)', '中央(Nc)', '補助(VD)', '。\\n(Na)', '鄉鎮(Nc)', '大型(A)', '共融式(Na)', '全齡(A)', '公園(Nc)', '。\\n(Na)', '產業(Na)', '創新(VC)', '地方(Na)', '創生(Na)', '全面(D)', '修繕(VC)', '漁港(Nc)', '轉型(VH)', '漁業(Na)', '觀光(VA)', '港口(Nc)', '漁業(Na)', '升級(VH)', '智慧(Na)', '產業(Na)', '物價(Na)', '波動(VAC)', '調升(VC)', '公糧(Na)', '收購(VC)', '價格(Na)', '調整(VC)', '天然(A)', '災害(Na)', '救助(VC)', '金額(Na)', '打造(VC)', '生態(Na)', '文化(Na)', '觀光(VA)', '軸帶(Na)', '地方(Na)', '創生(Na)', '農村(Nc)', '再生(VH)', '產業(Na)', '創新(VC)', '經濟(Na)']\n",
      "透過詞性篩選的斷詞: \n",
      "海口 選擇 改變 希望 強力 監督 政府 拒當 黨意 立委 反對 巧立 名目 編列 特別 預算 拒絕 子孫。\n",
      " 揭示 疫苗 採購 公文 進口 採購 合約 教育 平等 撐住 孩子 國中小 中等 教育 教育 預算 提高 以上 ２０１９年 臺灣 日本 韓國 。\n",
      " 偏鄉 非山非市 學校 建立 智慧 校園 實現 平等 教育 成立 網路 成癮 對策 中心 護幼 實現 世代 正義 推動 智慧 遠距 醫療 智慧 遠距 照顧 弭平 城鄉 差距 。\n",
      " 青年 創業 育成 輔導 獎勵 全面 檢討 修訂 貨物稅 所得稅 房屋稅 。\n",
      " 以上 長輩 健保費 中央 補助 。\n",
      " 鄉鎮 大型 共融式 全齡 公園 。\n",
      " 產業 創新 地方 創生 全面 修繕 漁港 轉型 漁業 觀光 港口 漁業 升級 智慧 產業 物價 波動 調升 公糧 收購 價格 調整 天然 災害 救助 金額 打造 生態 文化 觀光 軸帶 地方 創生 農村 再生 產業 創新 經濟\n",
      "命名實體辨識: \n",
      "[{(143, 147, 'PERCENT', '３.４％'), (141, 143, 'GPE', '韓國'), (278, 281, 'DATE', '６５歲'), (0, 2, 'GPE', '海口'), (124, 129, 'DATE', '２０１９年'), (116, 120, 'PERCENT', '２.５％'), (136, 140, 'PERCENT', '２.６％'), (154, 158, 'PERCENT', '３.４％'), (131, 133, 'PERCENT', '２％'), (60, 73, 'WORK_OF_ART', 'ＣＯＶＩＤ１９疫苗採購公文'), (129, 131, 'GPE', '臺灣'), (134, 136, 'GPE', '日本')}]\n",
      "=====\n"
     ]
    }
   ],
   "source": [
    "# Test the text selection function\n",
    "text = dfs[2024].loc[0, 'CONTENT']\n",
    "\n",
    "sentence_, pos_, ner_, token_ = load_text(text, test=1)\n",
    "print()\n",
    "print('=====')\n",
    "print(\"原文：\")\n",
    "print(text)\n",
    "print(\"斷詞後：\")\n",
    "print(sentence_)\n",
    "print(\"斷詞後+詞性標注：\")\n",
    "print(pos_)\n",
    "print(\"透過詞性篩選的斷詞: \")\n",
    "print(token_)\n",
    "print(\"命名實體辨識: \")\n",
    "print(ner_)\n",
    "print('=====')"
   ]
  },
  {
   "cell_type": "markdown",
   "metadata": {},
   "source": [
    "## Iterate Each Year Data"
   ]
  },
  {
   "cell_type": "code",
   "execution_count": null,
   "metadata": {},
   "outputs": [],
   "source": [
    "def tokenization(year: int, df: pd.DataFrame) -> pd.DataFrame:\n",
    "    start = time.time()\n",
    "    df[['SENTENCE', 'TOKEN']] = df['CONTENT'].apply(load_text).apply(pd.Series)\n",
    "    end = time.time()\n",
    "    # 每一年份使用CPU的運算時間約為10分鐘\n",
    "    print(f\"{year}年選舉公報的斷詞運算時間為: {round((end - start) / 60, 2)} 分\")\n",
    "    return df\n",
    "\n",
    "for key, value in dfs.items():\n",
    "    dfs[key] = tokenization(key[3:], value)"
   ]
  }
 ],
 "metadata": {
  "kernelspec": {
   "display_name": "base",
   "language": "python",
   "name": "python3"
  },
  "language_info": {
   "codemirror_mode": {
    "name": "ipython",
    "version": 3
   },
   "file_extension": ".py",
   "mimetype": "text/x-python",
   "name": "python",
   "nbconvert_exporter": "python",
   "pygments_lexer": "ipython3",
   "version": "3.8.8"
  }
 },
 "nbformat": 4,
 "nbformat_minor": 2
}
