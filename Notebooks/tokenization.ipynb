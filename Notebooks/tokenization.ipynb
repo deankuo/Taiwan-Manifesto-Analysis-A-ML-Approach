{
 "cells": [
  {
   "cell_type": "markdown",
   "metadata": {},
   "source": [
    "# Set Up The Environment"
   ]
  },
  {
   "cell_type": "code",
   "execution_count": 1,
   "metadata": {},
   "outputs": [
    {
     "name": "stderr",
     "output_type": "stream",
     "text": [
      "2024-05-02 13:38:47.992736: I tensorflow/core/platform/cpu_feature_guard.cc:193] This TensorFlow binary is optimized with oneAPI Deep Neural Network Library (oneDNN) to use the following CPU instructions in performance-critical operations:  AVX2 FMA\n",
      "To enable them in other operations, rebuild TensorFlow with the appropriate compiler flags.\n",
      "/Users/deankuo/opt/anaconda3/lib/python3.8/site-packages/ckiptagger/model_ws.py:106: UserWarning: `tf.nn.rnn_cell.LSTMCell` is deprecated and will be removed in a future version. This class is equivalent as `tf.keras.layers.LSTMCell`, and will be replaced by that in Tensorflow 2.0.\n",
      "  cell = tf.compat.v1.nn.rnn_cell.LSTMCell(hidden_d, name=name)\n",
      "2024-05-02 13:39:20.121827: I tensorflow/core/platform/cpu_feature_guard.cc:193] This TensorFlow binary is optimized with oneAPI Deep Neural Network Library (oneDNN) to use the following CPU instructions in performance-critical operations:  AVX2 FMA\n",
      "To enable them in other operations, rebuild TensorFlow with the appropriate compiler flags.\n",
      "2024-05-02 13:39:20.160408: I tensorflow/compiler/mlir/mlir_graph_optimization_pass.cc:357] MLIR V1 optimization pass is not enabled\n",
      "/Users/deankuo/opt/anaconda3/lib/python3.8/site-packages/ckiptagger/model_pos.py:56: UserWarning: `tf.nn.rnn_cell.LSTMCell` is deprecated and will be removed in a future version. This class is equivalent as `tf.keras.layers.LSTMCell`, and will be replaced by that in Tensorflow 2.0.\n",
      "  cell = tf.compat.v1.nn.rnn_cell.LSTMCell(hidden_d, name=name)\n",
      "/Users/deankuo/opt/anaconda3/lib/python3.8/site-packages/ckiptagger/model_ner.py:57: UserWarning: `tf.nn.rnn_cell.LSTMCell` is deprecated and will be removed in a future version. This class is equivalent as `tf.keras.layers.LSTMCell`, and will be replaced by that in Tensorflow 2.0.\n",
      "  cell = tf.compat.v1.nn.rnn_cell.LSTMCell(hidden_d, name=name)\n"
     ]
    }
   ],
   "source": [
    "# Import packages\n",
    "import pandas as pd\n",
    "import numpy as np\n",
    "import matplotlib.pyplot as plt\n",
    "import matplotlib\n",
    "import re\n",
    "import os\n",
    "import time\n",
    "from tqdm.auto import tqdm\n",
    "from ckiptagger import WS, POS, NER, construct_dictionary # tokenization\n",
    "\n",
    "# Setup work directory\n",
    "os.chdir('/Users/deankuo/Desktop/python/dissertation/Taiwan-Manifesto-Analysis-A-ML-Approach')\n",
    "os.listdir()\n",
    "\n",
    "# Import utils.py\n",
    "from Utils.utils_token import (\n",
    "    load_text,\n",
    "    split_content,\n",
    "    tokenization,\n",
    "    postprocess_dataframe,\n",
    "    \n",
    ")\n",
    "matplotlib.rcParams['font.family'] = 'Times New Roman'\n",
    "\n",
    "# CKIP module\n",
    "CKIP_PATH = \"../CKIP_TAGGER\"\n",
    "ws = WS(CKIP_PATH) # 斷詞\n",
    "pos = POS(CKIP_PATH) # 詞性標註\n",
    "ner = NER(CKIP_PATH) # 命名實體識別"
   ]
  },
  {
   "cell_type": "code",
   "execution_count": 2,
   "metadata": {},
   "outputs": [],
   "source": [
    "# 加入自定義字典\n",
    "word_to_weight = {'823': 1, 'ECFA': 1, '2300': 1, '台26線': 1, '台74線': 1, '12年國教': 1, 'BOT': 1, '88快速道路': 1, '台27線': 1, '台61線': 1, '十二年國教': 1, '國道10號': 1,\n",
    "                  '台88號': 1, 'M型': 1, '205兵工廠': 1, '北二高': 1, '台65線': 1, 'CEPA': 1, 'FTA': 1, '科學園區': 1, '228': 1, 'MIT': 1, '202兵工廠': 1, '86快速道路': 1, '國道8號': 1,\n",
    "                  '台64': 1, '台66': 1, 'iBike': 1, 'MRT': 1, 'TPP': 1, 'TIFA': 1, 'TPP':1, '台22': 1, '台29': 1, '國10': 1, '國1': 1, '318': 1, 'NCC':1, 'PM2.5': 1, 'YouBike': 1, \n",
    "                  '台68': 1, '快速道路': 1, 'NGO': 1, 'NPO': 1, 'U-Bike': 1, 'LGBTQ': 1, '三七五減租': 1, '小三通': 1, '大三通': 1, '基礎建設': 1, '戒急用忍': 1, '社會役': 1, '非核家園': 1,\n",
    "                  '教育券': 1, '九二共識': 1}\n",
    "dictionary = construct_dictionary(word_to_weight)\n",
    "\n",
    "# 停用詞\n",
    "with open(\"./Data/stopwords_zh-tw.txt\", encoding=\"utf-8\") as fin:\n",
    "    stopwords = fin.read().split(\"\\n\")[1:]"
   ]
  },
  {
   "cell_type": "code",
   "execution_count": 3,
   "metadata": {},
   "outputs": [
    {
     "name": "stdout",
     "output_type": "stream",
     "text": [
      "(330, 17)\n",
      "(314, 17)\n",
      "(383, 17)\n",
      "(434, 17)\n",
      "(368, 17)\n",
      "(283, 17)\n",
      "(267, 17)\n",
      "(354, 17)\n",
      "(410, 17)\n",
      "(309, 17)\n"
     ]
    }
   ],
   "source": [
    "years = [1992, 1995, 1998, 2001, 2004, 2008, 2012, 2016, 2020, 2024]\n",
    "dfs = {}\n",
    "num = []\n",
    "for year in years:\n",
    "    dfs[year] = pd.read_excel(f\"./Data/merge_data/{year}.xlsx\")\n",
    "    print(dfs[year].shape)\n",
    "    num.append(dfs[year].shape[0])"
   ]
  },
  {
   "cell_type": "code",
   "execution_count": 4,
   "metadata": {},
   "outputs": [],
   "source": [
    "for k, v in dfs.items():\n",
    "    dfs[k] = split_content(dfs[k])"
   ]
  },
  {
   "cell_type": "code",
   "execution_count": 4,
   "metadata": {},
   "outputs": [
    {
     "name": "stdout",
     "output_type": "stream",
     "text": [
      "1992 年的選舉共有 3970 筆資料\n",
      "1992 年選舉的候選人平均提出 12.03 筆政見\n",
      "\n",
      "1995 年的選舉共有 3580 筆資料\n",
      "1995 年選舉的候選人平均提出 11.4 筆政見\n",
      "\n",
      "1998 年的選舉共有 4332 筆資料\n",
      "1998 年選舉的候選人平均提出 11.31 筆政見\n",
      "\n",
      "2001 年的選舉共有 4647 筆資料\n",
      "2001 年選舉的候選人平均提出 10.71 筆政見\n",
      "\n",
      "2004 年的選舉共有 3926 筆資料\n",
      "2004 年選舉的候選人平均提出 10.67 筆政見\n",
      "\n",
      "2008 年的選舉共有 3724 筆資料\n",
      "2008 年選舉的候選人平均提出 13.16 筆政見\n",
      "\n",
      "2012 年的選舉共有 2917 筆資料\n",
      "2012 年選舉的候選人平均提出 10.93 筆政見\n",
      "\n",
      "2016 年的選舉共有 3918 筆資料\n",
      "2016 年選舉的候選人平均提出 11.07 筆政見\n",
      "\n",
      "2020 年的選舉共有 4797 筆資料\n",
      "2020 年選舉的候選人平均提出 11.7 筆政見\n",
      "\n",
      "2024 年的選舉共有 3744 筆資料\n",
      "2024 年選舉的候選人平均提出 12.12 筆政見\n",
      "\n",
      "一共有 39555 筆資料\n"
     ]
    }
   ],
   "source": [
    "sum = 0\n",
    "n = 0\n",
    "for k, v in dfs.items():\n",
    "    t = v.shape[0]\n",
    "    sum += t\n",
    "    print(f\"{k} 年的選舉共有 {t} 筆資料\")\n",
    "    print(f\"{k} 年選舉的候選人平均提出 {round(t / num[n], 2)} 筆政見\\n\")\n",
    "    n += 1\n",
    "print(f\"一共有 {sum} 筆資料\")\n",
    "    "
   ]
  },
  {
   "cell_type": "markdown",
   "metadata": {},
   "source": [
    "# Tokenization"
   ]
  },
  {
   "cell_type": "code",
   "execution_count": 5,
   "metadata": {},
   "outputs": [
    {
     "name": "stdout",
     "output_type": "stream",
     "text": [
      "\n",
      "=====\n",
      "原文：\n",
      "５、青年＆就業︰規劃吸引年輕人返鄉就業，本區應制定在地廠商聘用本區或外地的年輕人之相關優惠的補助條件和方式，讓年輕人願意留在本區務農、就業、甚至創業。\n",
      "斷詞後：\n",
      "青年 就業 規劃 吸引 年輕人 返鄉 就業 制定 在地 廠商 聘用 外地 年輕人 相關 優惠 補助 條件 方式 年輕人 願意 留在 務農 就業 甚至 創業\n",
      "斷詞後+詞性標注：\n",
      "['青年(Na)', '就業(VA)', '規劃(VC)', '吸引(VJ)', '年輕人(Na)', '返鄉(VA)', '就業(VA)', '制定(VC)', '在地(A)', '廠商(Na)', '聘用(VC)', '外地(Nc)', '年輕人(Na)', '相關(VH)', '優惠(VJ)', '補助(Nv)', '條件(Na)', '方式(Na)', '年輕人(Na)', '願意(VK)', '留在(VCL)', '務農(VA)', '就業(VA)', '創業(VA)']\n",
      "透過詞性篩選的斷詞: \n",
      "青年 就業 規劃 吸引 年輕人 返鄉 就業 制定 在地 廠商 聘用 外地 年輕人 相關 優惠 補助 條件 方式 年輕人 願意 留在 務農 就業 創業\n",
      "命名實體辨識: \n",
      "[{(0, 1, 'CARDINAL', '５')}]\n",
      "=====\n"
     ]
    }
   ],
   "source": [
    "# Test the text selection function\n",
    "text = dfs[2024].loc[250, 'CONTENT']\n",
    "\n",
    "sentence_, pos_, ner_, token_ = load_text(text, test=1)\n",
    "print()\n",
    "print('=====')\n",
    "print(\"原文：\")\n",
    "print(text)\n",
    "print(\"斷詞後：\")\n",
    "print(sentence_)\n",
    "print(\"斷詞後+詞性標注：\")\n",
    "print(pos_)\n",
    "print(\"透過詞性篩選的斷詞: \")\n",
    "print(token_)\n",
    "print(\"命名實體辨識: \")\n",
    "print(ner_)\n",
    "print('=====')"
   ]
  },
  {
   "cell_type": "markdown",
   "metadata": {},
   "source": [
    "## Iterate Each Year Data"
   ]
  },
  {
   "cell_type": "code",
   "execution_count": 4,
   "metadata": {},
   "outputs": [
    {
     "data": {
      "application/vnd.jupyter.widget-view+json": {
       "model_id": "a09746d18abd41a58a31b5c7b80ccee9",
       "version_major": 2,
       "version_minor": 0
      },
      "text/plain": [
       "Tokenizing 1992 election statements:   0%|          | 0/330 [00:00<?, ?it/s]"
      ]
     },
     "metadata": {},
     "output_type": "display_data"
    },
    {
     "name": "stdout",
     "output_type": "stream",
     "text": [
      "1992年選舉公報的斷詞運算時間為: 5.68 分\n"
     ]
    },
    {
     "data": {
      "application/vnd.jupyter.widget-view+json": {
       "model_id": "e14e56fba3794fe59c4724f2db3d6af7",
       "version_major": 2,
       "version_minor": 0
      },
      "text/plain": [
       "Tokenizing 1995 election statements:   0%|          | 0/314 [00:00<?, ?it/s]"
      ]
     },
     "metadata": {},
     "output_type": "display_data"
    },
    {
     "name": "stdout",
     "output_type": "stream",
     "text": [
      "1995年選舉公報的斷詞運算時間為: 5.68 分\n"
     ]
    },
    {
     "data": {
      "application/vnd.jupyter.widget-view+json": {
       "model_id": "1553230bc33b4a629eddc8a260e75a8a",
       "version_major": 2,
       "version_minor": 0
      },
      "text/plain": [
       "Tokenizing 1998 election statements:   0%|          | 0/383 [00:00<?, ?it/s]"
      ]
     },
     "metadata": {},
     "output_type": "display_data"
    },
    {
     "name": "stdout",
     "output_type": "stream",
     "text": [
      "1998年選舉公報的斷詞運算時間為: 7.11 分\n"
     ]
    },
    {
     "data": {
      "application/vnd.jupyter.widget-view+json": {
       "model_id": "da24e85658e44de995ea7641539c6a5d",
       "version_major": 2,
       "version_minor": 0
      },
      "text/plain": [
       "Tokenizing 2001 election statements:   0%|          | 0/434 [00:00<?, ?it/s]"
      ]
     },
     "metadata": {},
     "output_type": "display_data"
    },
    {
     "name": "stdout",
     "output_type": "stream",
     "text": [
      "2001年選舉公報的斷詞運算時間為: 7.61 分\n"
     ]
    },
    {
     "data": {
      "application/vnd.jupyter.widget-view+json": {
       "model_id": "b998db6f5f1d48c69abdb8219e8dccc5",
       "version_major": 2,
       "version_minor": 0
      },
      "text/plain": [
       "Tokenizing 2004 election statements:   0%|          | 0/368 [00:00<?, ?it/s]"
      ]
     },
     "metadata": {},
     "output_type": "display_data"
    },
    {
     "name": "stdout",
     "output_type": "stream",
     "text": [
      "2004年選舉公報的斷詞運算時間為: 5.97 分\n"
     ]
    },
    {
     "data": {
      "application/vnd.jupyter.widget-view+json": {
       "model_id": "eae18f4b224e44f892eea4f00e03d00f",
       "version_major": 2,
       "version_minor": 0
      },
      "text/plain": [
       "Tokenizing 2008 election statements:   0%|          | 0/283 [00:00<?, ?it/s]"
      ]
     },
     "metadata": {},
     "output_type": "display_data"
    },
    {
     "name": "stdout",
     "output_type": "stream",
     "text": [
      "2008年選舉公報的斷詞運算時間為: 5.5 分\n"
     ]
    },
    {
     "data": {
      "application/vnd.jupyter.widget-view+json": {
       "model_id": "ca36684310cc4ba299a1f8ac67c6fdd5",
       "version_major": 2,
       "version_minor": 0
      },
      "text/plain": [
       "Tokenizing 2012 election statements:   0%|          | 0/267 [00:00<?, ?it/s]"
      ]
     },
     "metadata": {},
     "output_type": "display_data"
    },
    {
     "name": "stdout",
     "output_type": "stream",
     "text": [
      "2012年選舉公報的斷詞運算時間為: 5.45 分\n"
     ]
    },
    {
     "data": {
      "application/vnd.jupyter.widget-view+json": {
       "model_id": "008b9fd964934307b2a39e3cd1748749",
       "version_major": 2,
       "version_minor": 0
      },
      "text/plain": [
       "Tokenizing 2016 election statements:   0%|          | 0/354 [00:00<?, ?it/s]"
      ]
     },
     "metadata": {},
     "output_type": "display_data"
    },
    {
     "name": "stdout",
     "output_type": "stream",
     "text": [
      "2016年選舉公報的斷詞運算時間為: 6.95 分\n"
     ]
    },
    {
     "data": {
      "application/vnd.jupyter.widget-view+json": {
       "model_id": "3068300138094a3795c3216df5c9f1f6",
       "version_major": 2,
       "version_minor": 0
      },
      "text/plain": [
       "Tokenizing 2020 election statements:   0%|          | 0/410 [00:00<?, ?it/s]"
      ]
     },
     "metadata": {},
     "output_type": "display_data"
    },
    {
     "name": "stdout",
     "output_type": "stream",
     "text": [
      "2020年選舉公報的斷詞運算時間為: 8.15 分\n"
     ]
    },
    {
     "data": {
      "application/vnd.jupyter.widget-view+json": {
       "model_id": "7a639599366741b7b86506c18febbb04",
       "version_major": 2,
       "version_minor": 0
      },
      "text/plain": [
       "Tokenizing 2024 election statements:   0%|          | 0/309 [00:00<?, ?it/s]"
      ]
     },
     "metadata": {},
     "output_type": "display_data"
    },
    {
     "name": "stdout",
     "output_type": "stream",
     "text": [
      "2024年選舉公報的斷詞運算時間為: 6.57 分\n"
     ]
    }
   ],
   "source": [
    "for key, value in dfs.items():\n",
    "    dfs[key] = tokenization(key, value)"
   ]
  },
  {
   "cell_type": "code",
   "execution_count": 6,
   "metadata": {},
   "outputs": [
    {
     "data": {
      "application/vnd.jupyter.widget-view+json": {
       "model_id": "a1d5efbe95c247d3bb392ac6ee465482",
       "version_major": 2,
       "version_minor": 0
      },
      "text/plain": [
       "Tokenizing 1992 election statements:   0%|          | 0/3970 [00:00<?, ?it/s]"
      ]
     },
     "metadata": {},
     "output_type": "display_data"
    },
    {
     "name": "stdout",
     "output_type": "stream",
     "text": [
      "1992年選舉公報的斷詞運算時間為: 8.94 分\n"
     ]
    },
    {
     "data": {
      "application/vnd.jupyter.widget-view+json": {
       "model_id": "f0dad6348bfe40ecbc7a7c81e00792ac",
       "version_major": 2,
       "version_minor": 0
      },
      "text/plain": [
       "Tokenizing 1995 election statements:   0%|          | 0/3580 [00:00<?, ?it/s]"
      ]
     },
     "metadata": {},
     "output_type": "display_data"
    },
    {
     "name": "stdout",
     "output_type": "stream",
     "text": [
      "1995年選舉公報的斷詞運算時間為: 6.78 分\n"
     ]
    },
    {
     "data": {
      "application/vnd.jupyter.widget-view+json": {
       "model_id": "c04262b331154df39e8b13c703cef506",
       "version_major": 2,
       "version_minor": 0
      },
      "text/plain": [
       "Tokenizing 1998 election statements:   0%|          | 0/4332 [00:00<?, ?it/s]"
      ]
     },
     "metadata": {},
     "output_type": "display_data"
    },
    {
     "name": "stdout",
     "output_type": "stream",
     "text": [
      "1998年選舉公報的斷詞運算時間為: 8.9 分\n"
     ]
    },
    {
     "data": {
      "application/vnd.jupyter.widget-view+json": {
       "model_id": "03e91656afe54a25a119bf0641228abf",
       "version_major": 2,
       "version_minor": 0
      },
      "text/plain": [
       "Tokenizing 2001 election statements:   0%|          | 0/4647 [00:00<?, ?it/s]"
      ]
     },
     "metadata": {},
     "output_type": "display_data"
    },
    {
     "name": "stdout",
     "output_type": "stream",
     "text": [
      "2001年選舉公報的斷詞運算時間為: 8.49 分\n"
     ]
    },
    {
     "data": {
      "application/vnd.jupyter.widget-view+json": {
       "model_id": "acbff0e803fb4c2891ea929d3585ccc0",
       "version_major": 2,
       "version_minor": 0
      },
      "text/plain": [
       "Tokenizing 2004 election statements:   0%|          | 0/3926 [00:00<?, ?it/s]"
      ]
     },
     "metadata": {},
     "output_type": "display_data"
    },
    {
     "name": "stdout",
     "output_type": "stream",
     "text": [
      "2004年選舉公報的斷詞運算時間為: 7.14 分\n"
     ]
    },
    {
     "data": {
      "application/vnd.jupyter.widget-view+json": {
       "model_id": "bf7d1a2e8f6a4bd1a9af1314a12bedf2",
       "version_major": 2,
       "version_minor": 0
      },
      "text/plain": [
       "Tokenizing 2008 election statements:   0%|          | 0/3724 [00:00<?, ?it/s]"
      ]
     },
     "metadata": {},
     "output_type": "display_data"
    },
    {
     "name": "stdout",
     "output_type": "stream",
     "text": [
      "2008年選舉公報的斷詞運算時間為: 6.99 分\n"
     ]
    },
    {
     "data": {
      "application/vnd.jupyter.widget-view+json": {
       "model_id": "3b792d366b9449eb83fbf6fb360f1146",
       "version_major": 2,
       "version_minor": 0
      },
      "text/plain": [
       "Tokenizing 2012 election statements:   0%|          | 0/2917 [00:00<?, ?it/s]"
      ]
     },
     "metadata": {},
     "output_type": "display_data"
    },
    {
     "name": "stdout",
     "output_type": "stream",
     "text": [
      "2012年選舉公報的斷詞運算時間為: 26.85 分\n"
     ]
    },
    {
     "data": {
      "application/vnd.jupyter.widget-view+json": {
       "model_id": "e5d81544fc3c4c4b9528ceda88eee4a5",
       "version_major": 2,
       "version_minor": 0
      },
      "text/plain": [
       "Tokenizing 2016 election statements:   0%|          | 0/3918 [00:00<?, ?it/s]"
      ]
     },
     "metadata": {},
     "output_type": "display_data"
    },
    {
     "name": "stdout",
     "output_type": "stream",
     "text": [
      "2016年選舉公報的斷詞運算時間為: 7.92 分\n"
     ]
    },
    {
     "data": {
      "application/vnd.jupyter.widget-view+json": {
       "model_id": "be1696e32026414d9cc584fd83962ed2",
       "version_major": 2,
       "version_minor": 0
      },
      "text/plain": [
       "Tokenizing 2020 election statements:   0%|          | 0/4797 [00:00<?, ?it/s]"
      ]
     },
     "metadata": {},
     "output_type": "display_data"
    },
    {
     "name": "stdout",
     "output_type": "stream",
     "text": [
      "2020年選舉公報的斷詞運算時間為: 8.59 分\n"
     ]
    },
    {
     "data": {
      "application/vnd.jupyter.widget-view+json": {
       "model_id": "fe43d86e9d56401ea01148239a38d40a",
       "version_major": 2,
       "version_minor": 0
      },
      "text/plain": [
       "Tokenizing 2024 election statements:   0%|          | 0/3744 [00:00<?, ?it/s]"
      ]
     },
     "metadata": {},
     "output_type": "display_data"
    },
    {
     "name": "stdout",
     "output_type": "stream",
     "text": [
      "2024年選舉公報的斷詞運算時間為: 7.1 分\n"
     ]
    }
   ],
   "source": [
    "for key, value in dfs.items():\n",
    "    dfs[key] = tokenization(key, value)"
   ]
  },
  {
   "cell_type": "markdown",
   "metadata": {},
   "source": [
    "## Post Processing"
   ]
  },
  {
   "cell_type": "code",
   "execution_count": 7,
   "metadata": {},
   "outputs": [],
   "source": [
    "for k, v in dfs.items():\n",
    "    dfs[k] = postprocess_dataframe(dfs[k])"
   ]
  },
  {
   "cell_type": "code",
   "execution_count": 8,
   "metadata": {},
   "outputs": [
    {
     "name": "stdout",
     "output_type": "stream",
     "text": [
      "39535\n"
     ]
    }
   ],
   "source": [
    "sum = 0\n",
    "for k, v in dfs.items():\n",
    "    sum += dfs[k].shape[0]\n",
    "\n",
    "print(sum)"
   ]
  },
  {
   "cell_type": "code",
   "execution_count": 9,
   "metadata": {},
   "outputs": [],
   "source": [
    "for k, v in dfs.items():\n",
    "    dfs[k].to_csv(f'./Data/Dataset/{k}.csv', encoding='utf-8-sig', index=False)"
   ]
  },
  {
   "cell_type": "code",
   "execution_count": 6,
   "metadata": {},
   "outputs": [
    {
     "name": "stdout",
     "output_type": "stream",
     "text": [
      "(3452, 19)\n"
     ]
    }
   ],
   "source": [
    "combined_df = pd.concat(dfs.values(), ignore_index=True)\n",
    "print(combined_df.shape)\n",
    "combined_df.to_csv('./Data/Manifesto_Dataset_Origin.csv', encoding='utf-8-sig', index=False)"
   ]
  }
 ],
 "metadata": {
  "kernelspec": {
   "display_name": "base",
   "language": "python",
   "name": "python3"
  },
  "language_info": {
   "codemirror_mode": {
    "name": "ipython",
    "version": 3
   },
   "file_extension": ".py",
   "mimetype": "text/x-python",
   "name": "python",
   "nbconvert_exporter": "python",
   "pygments_lexer": "ipython3",
   "version": "3.8.8"
  }
 },
 "nbformat": 4,
 "nbformat_minor": 2
}
