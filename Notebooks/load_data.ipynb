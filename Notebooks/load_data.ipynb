{
 "cells": [
  {
   "cell_type": "markdown",
   "metadata": {},
   "source": [
    "# Set Up The Environment"
   ]
  },
  {
   "cell_type": "code",
   "execution_count": 1,
   "metadata": {},
   "outputs": [],
   "source": [
    "# Import packages\n",
    "import pandas as pd\n",
    "import numpy as np\n",
    "import matplotlib.pyplot as plt\n",
    "import matplotlib\n",
    "import os\n",
    "import seaborn as sns\n",
    "\n",
    "# Setup work directory\n",
    "os.chdir('/Users/deankuo/Desktop/python/dissertation/Taiwan-Manifesto-Analysis-A-ML-Approach')\n",
    "os.listdir()\n",
    "\n",
    "# Import utils.py\n",
    "from Utils.utils import (\n",
    "    load_dataframe, \n",
    "    fill_education, \n",
    "    fill_age, \n",
    "    party_plot, \n",
    "    party_processing, \n",
    "    content_processing,\n",
    "    dataset_cleaning,\n",
    "    is_main_party,\n",
    "    vote_calculate,\n",
    "    find_duplicate_lnames,\n",
    "    )\n",
    "\n",
    "# Set up matplotlib\n",
    "matplotlib.rcParams['font.family'] = 'Times New Roman'\n",
    "sns.set_theme(style=\"whitegrid\")\n",
    "plt.rcParams['font.family'] = 'serif'\n",
    "plt.rcParams['font.serif'] = ['Times New Roman'] + plt.rcParams['font.serif']"
   ]
  },
  {
   "cell_type": "markdown",
   "metadata": {},
   "source": [
    "# Raw Data Processing"
   ]
  },
  {
   "cell_type": "code",
   "execution_count": 2,
   "metadata": {},
   "outputs": [],
   "source": [
    "# Read csv files\n",
    "years = [1992, 1995, 1998, 2001, 2004, 2008, 2012, 2016, 2020, 2024]\n",
    "dfs = dict()\n",
    "\n",
    "for year in years:\n",
    "    dfs[year] = pd.read_excel(f\"./Data/manifesto_data/taiwan_manifesto_{year}.xlsx\")\n",
    "\n",
    "for key, value in dfs.items():\n",
    "    dfs[key] = load_dataframe(value, int(key))"
   ]
  },
  {
   "cell_type": "markdown",
   "metadata": {},
   "source": [
    "## Find Duplicate Candidates' names"
   ]
  },
  {
   "cell_type": "code",
   "execution_count": 3,
   "metadata": {},
   "outputs": [
    {
     "name": "stdout",
     "output_type": "stream",
     "text": [
      "1992\n",
      "1995\n",
      "1998\n",
      "2001\n",
      "2012\n",
      "2016\n",
      "2020\n",
      "2024\n"
     ]
    }
   ],
   "source": [
    "# Print out if there exists duplicate names\n",
    "find_duplicate_lnames(dfs)"
   ]
  },
  {
   "cell_type": "markdown",
   "metadata": {},
   "source": [
    "## Rename\n",
    "Due to the duplicate names of candidates, I apply the following rename rules:\n",
    "1. Add district name after.\n",
    "2. If the candidates are in the same district, add their party instead."
   ]
  },
  {
   "cell_type": "markdown",
   "metadata": {},
   "source": [
    "# Coding Rules"
   ]
  },
  {
   "cell_type": "markdown",
   "metadata": {},
   "source": [
    "## Party\n",
    "\n",
    "1: 國民黨  \n",
    "2: 民進黨  \n",
    "3: 親民黨  \n",
    "4: 新黨  \n",
    "5: 無黨團結聯盟  \n",
    "6: 台聯黨  \n",
    "7: 無黨籍  \n",
    "8: 台灣民眾黨  \n",
    "9: 時代力量  \n",
    "10: 台灣團結聯盟  \n",
    "20: 其他  "
   ]
  },
  {
   "cell_type": "code",
   "execution_count": 4,
   "metadata": {},
   "outputs": [],
   "source": [
    "for key, value in dfs.items():\n",
    "    dfs[key] = party_processing(value)\n",
    "    dfs[key] = content_processing(value)"
   ]
  },
  {
   "cell_type": "code",
   "execution_count": 5,
   "metadata": {},
   "outputs": [
    {
     "name": "stdout",
     "output_type": "stream",
     "text": [
      "1992 的參選政黨有：\n",
      "['中國全民福利黨' '國民黨' '中華社會民主黨' '無' '民進黨' '中國團結黨' '中國大同民主黨' '中國人民行動黨' '中興黨'\n",
      " '中國中青黨' '中國忠義黨' '勞動黨' '真理黨' '工黨']\n",
      "1995 的參選政黨有：\n",
      "['國民黨' '新黨' '無' '民進黨' '永遠黨外' '勞動黨' '公民黨' '全國民主非政黨聯盟']\n",
      "1998 的參選政黨有：\n",
      "['國民黨' '新黨' '無' '民進黨' '民主聯盟' '全國民主非政黨聯盟' '建國黨' '新國家連線' '永遠黨外' '中國青年黨' '綠黨'\n",
      " '國家民主黨']\n",
      "2001 的參選政黨有：\n",
      "['國民黨' '新黨' '無' '台灣團結聯盟' '親民黨' '民進黨' '建國黨' '台灣吾黨' '大中華統一陣線' '臺灣慧行志工黨'\n",
      " '全國民主非政黨聯盟' '綠黨']\n",
      "2004 的參選政黨有：\n",
      "['國民黨' '台聯黨' '無' '無黨團結聯盟' '民進黨' '親民黨' '新黨' '建國黨' '工教聯盟' '台灣慧行志工黨']\n",
      "2008 的參選政黨有：\n",
      "['國民黨' '紅黨' '民進黨' '大道慈悲濟世黨' '客家黨' '台聯黨' '無' '台灣農民黨' '民主自由黨' '第三社會黨' '公民黨'\n",
      " '綠黨' '制憲聯盟' '無黨團結聯盟' '親民黨' '世界和平黨' '洪運忠義黨' '台灣團結聯盟']\n",
      "2012 的參選政黨有：\n",
      "['國民黨' '民進黨' '台灣主義黨' '親民黨' '綠黨' '中華民國臺灣基本法連線' '人民最大黨' '無' '新黨' '健保免費連線'\n",
      " '人民民主陣線' '台灣國民會議' '無黨團結聯盟' '正黨' '健保免費陣線' '中華民國臺灣基本法陣線' '中華民國愛國黨']\n",
      "2016 的參選政黨有：\n",
      "['自由台灣黨' '國民黨' '無' '民進黨' '中華統一促進黨' '樹黨' '台灣團結聯盟' '親民黨' '軍公教聯盟黨' '和平鴿聯盟黨'\n",
      " '信心希望聯盟' '大愛憲改聯盟' '健保免費聯線' '新黨' '台灣獨立黨' '民國黨' '綠黨社會民主黨聯盟' '台灣工黨' '時代力量'\n",
      " '人民民主陣線' '健保免費連線' '社會福利黨' '泛盟黨' '正黨' '勞工黨' '中華民國機車黨' '台灣未來黨']\n",
      "2020 的參選政黨有：\n",
      "['勞動黨' '民進黨' '台灣民眾黨' '台灣工黨' '中華統一促進黨' '綠黨' '國民黨' '無' '合一行動聯盟' '台澎黨' '台灣基進'\n",
      " '親民黨' '台灣維新' '國會政黨聯盟' '喜樂島聯盟' '中華愛國同心黨' '中華婦女黨' '安定力量' '宗教聯盟' '中華聯合黨'\n",
      " '時代力量' '臺灣前進黨' '中華照生黨' '一邊一國行動黨' '台灣革命黨' '勞工黨' '正黨' '台灣獨立黨' '聾國黨' '金門高粱黨'\n",
      " '圓黨' '興中同盟會' '中國生產黨' '中華文化復興在理黨' '台灣動物保護黨' '司法正義黨' '民生公益' '言論自由聯盟'\n",
      " '中華新住民黨' '天宙和平統一家庭黨' '人民民主黨' '台灣整復師聯盟工黨' '中國和平統一黨' '台灣民意黨']\n",
      "2024 的參選政黨有：\n",
      "['國民黨' '無' '民進黨' '人民最大黨' '中華統一促進黨' '台灣綠黨' '台灣維新' '小民參政歐巴桑聯盟' '司法改革黨'\n",
      " '復康聯盟黨' '中華聯合黨' '台灣基進' '制度救世島' '台灣民眾黨' '臺灣雙語無法黨' '台灣麻將最大黨' '小民參政黨歐巴桑聯盟'\n",
      " '中華愛國同心黨' '台灣革命黨' '台灣基進黨' '台灣整復師聯盟工黨' '司法正義黨' '新黨' '勞動黨' '時代力量' '台灣國民黨'\n",
      " '興中同盟會' '社會民主黨' '中華文化共和黨' '經濟黨' '合一行動聯盟' '家庭基本收入' '喜樂島聯盟' '中華婦女黨']\n"
     ]
    }
   ],
   "source": [
    "# Party encoding\n",
    "unique_counts = []\n",
    "\n",
    "for year in years:\n",
    "    df = dfs[year]\n",
    "    unique_count = len(df['PARTY'].unique())\n",
    "    print(f\"{year} 的參選政黨有：\")\n",
    "    print(df['PARTY'].unique())\n",
    "    unique_counts.append(unique_count)"
   ]
  },
  {
   "cell_type": "code",
   "execution_count": 33,
   "metadata": {},
   "outputs": [
    {
     "data": {
      "image/png": "[encoded data removed]",
      "text/plain": [
       "<Figure size 1200x800 with 1 Axes>"
      ]
     },
     "metadata": {},
     "output_type": "display_data"
    }
   ],
   "source": [
    "party_plot(unique_counts, years, save=True)"
   ]
  },
  {
   "cell_type": "markdown",
   "metadata": {},
   "source": [
    "# Merge Voting Data and Manifesto Data"
   ]
  },
  {
   "cell_type": "code",
   "execution_count": 19,
   "metadata": {},
   "outputs": [],
   "source": [
    "dfs_vote = {}\n",
    "for year in years:\n",
    "    dfs_vote[year] = pd.read_csv(f\"./Data/vote_data/vote_{year}.csv\")\n",
    "    dfs_vote[year]['LNAME'] = dfs_vote[year]['LNAME'].apply(lambda x: x.strip())"
   ]
  },
  {
   "cell_type": "markdown",
   "metadata": {},
   "source": [
    "## Vote Data Cleaning"
   ]
  },
  {
   "cell_type": "code",
   "execution_count": 9,
   "metadata": {},
   "outputs": [
    {
     "name": "stdout",
     "output_type": "stream",
     "text": [
      "Education differences: []\n"
     ]
    }
   ],
   "source": [
    "dfs_vote_updated, education_differences = fill_education(dfs_vote)\n",
    "dfs_vote_updated = fill_age(dfs_vote)\n",
    "print(\"Education differences:\", education_differences)"
   ]
  },
  {
   "cell_type": "code",
   "execution_count": 183,
   "metadata": {},
   "outputs": [],
   "source": [
    "for k, v in dfs_vote.items():\n",
    "    v.to_csv(f'./Data/vote_data/vote_{k}.csv', encoding='utf-8-sig', index=False)"
   ]
  },
  {
   "cell_type": "markdown",
   "metadata": {},
   "source": [
    "## Data Merge"
   ]
  },
  {
   "cell_type": "code",
   "execution_count": 20,
   "metadata": {},
   "outputs": [],
   "source": [
    "for year in years:\n",
    "    globals()[f'df_{year}'] = pd.merge(dfs[year], dfs_vote[year], on='LNAME', how='outer')\n",
    "    \n",
    "# 2008年的資料包含到補選候選人，需要先排除\n",
    "df_2008 = df_2008.dropna(subset=['性別'])"
   ]
  },
  {
   "cell_type": "markdown",
   "metadata": {},
   "source": [
    "# Data Cleaning"
   ]
  },
  {
   "cell_type": "code",
   "execution_count": 21,
   "metadata": {},
   "outputs": [
    {
     "name": "stdout",
     "output_type": "stream",
     "text": [
      "1992\n",
      "1995\n",
      "1998\n",
      "2001\n",
      "2004\n",
      "2008\n",
      "2012\n",
      "2016\n",
      "2020\n",
      "2024\n"
     ]
    }
   ],
   "source": [
    "for year in years:\n",
    "    globals()[f\"df_{year}\"] = dataset_cleaning(globals()[f\"df_{year}\"])\n",
    "    print(year)"
   ]
  },
  {
   "cell_type": "markdown",
   "metadata": {},
   "source": [
    "# Classify serious and non-serious candidates\n",
    "- 依照公職人員選舉罷免法第43條第1項規定：候選人除全國不分區及僑居國外國民立法委員選舉外，當選人在一人，得票數達各該選舉區當選票數三分之一以上者，當選人在二人以上，得票數達各該選舉區當選票數二分之一以上者，應補貼其競選費用，每票補貼新臺幣三十元。但其最高額，不得超過各該選舉區候選人競選經費最高金額。\n",
    "- 主要政黨有：國民黨、民進黨、親民黨、新黨、無黨團結聯盟、台聯黨、台灣民眾黨、時代力量、台灣團結聯盟"
   ]
  },
  {
   "cell_type": "code",
   "execution_count": 22,
   "metadata": {},
   "outputs": [],
   "source": [
    "import uuid\n",
    "for year in years:\n",
    "    globals()[f'df_{year}']['ENOUGH_VOTE'] = globals()[f'df_{year}'].groupby('AREA', group_keys=False).apply(vote_calculate)\n",
    "    globals()[f'df_{year}']['MAIN_PARTY_MEMBER'] = is_main_party(globals()[f'df_{year}'])\n",
    "    globals()[f'df_{year}']['SERIOUS_CANDIDATE'] = globals()[f'df_{year}'][['ENOUGH_VOTE', 'MAIN_PARTY_MEMBER']].any(axis=1).astype(int)\n",
    "    \n",
    "    # uuid\n",
    "    num_rows = len(globals()[f'df_{year}'])\n",
    "    uuids = [str(uuid.uuid4()) for _ in range(num_rows)]\n",
    "    globals()[f'df_{year}'].insert(0, 'ID', uuids)\n",
    "    globals()[f'df_{year}'].to_excel(f'./Data/merge_data/{year}.xlsx', index=False)"
   ]
  },
  {
   "cell_type": "markdown",
   "metadata": {},
   "source": [
    "# Combine The Dataset"
   ]
  },
  {
   "cell_type": "code",
   "execution_count": 23,
   "metadata": {},
   "outputs": [
    {
     "name": "stdout",
     "output_type": "stream",
     "text": [
      "所有的資料筆數為： 3452\n",
      "<class 'pandas.core.frame.DataFrame'>\n",
      "RangeIndex: 3452 entries, 0 to 3451\n",
      "Data columns (total 17 columns):\n",
      " #   Column             Non-Null Count  Dtype  \n",
      "---  ------             --------------  -----  \n",
      " 0   ID                 3452 non-null   object \n",
      " 1   LNAME              3452 non-null   object \n",
      " 2   TH                 3452 non-null   int64  \n",
      " 3   AREA               3452 non-null   object \n",
      " 4   PARTY              3452 non-null   object \n",
      " 5   PARTY_CODE         3452 non-null   int64  \n",
      " 6   GENDER             3452 non-null   int64  \n",
      " 7   INCUMBENT          3452 non-null   int64  \n",
      " 8   EDUCATION          3452 non-null   object \n",
      " 9   ELE                3452 non-null   int64  \n",
      " 10  VOTES              3452 non-null   int64  \n",
      " 11  VOTER_TURNOUT      3452 non-null   float64\n",
      " 12  CONTENT            3452 non-null   object \n",
      " 13  CONTENT_LENGTH     3452 non-null   int64  \n",
      " 14  ENOUGH_VOTE        3452 non-null   bool   \n",
      " 15  MAIN_PARTY_MEMBER  3452 non-null   bool   \n",
      " 16  SERIOUS_CANDIDATE  3452 non-null   int64  \n",
      "dtypes: bool(2), float64(1), int64(8), object(6)\n",
      "memory usage: 411.4+ KB\n"
     ]
    }
   ],
   "source": [
    "# ALL Manifestos\n",
    "df = pd.concat([df_1992, df_1995, df_1998, df_2001, df_2004, df_2008, df_2012, df_2016, df_2020, df_2024]).reset_index(drop=True)\n",
    "print(f\"所有的資料筆數為： {len(df)}\")\n",
    "df.info()"
   ]
  },
  {
   "cell_type": "code",
   "execution_count": 24,
   "metadata": {},
   "outputs": [],
   "source": [
    "df.to_excel('./Data/manifesto_dataset.xlsx', index=False)"
   ]
  }
 ],
 "metadata": {
  "kernelspec": {
   "display_name": "base",
   "language": "python",
   "name": "python3"
  },
  "language_info": {
   "codemirror_mode": {
    "name": "ipython",
    "version": 3
   },
   "file_extension": ".py",
   "mimetype": "text/x-python",
   "name": "python",
   "nbconvert_exporter": "python",
   "pygments_lexer": "ipython3",
   "version": "3.8.8"
  }
 },
 "nbformat": 4,
 "nbformat_minor": 2
}
